{
 "cells": [
  {
   "cell_type": "markdown",
   "metadata": {},
   "source": [
    "### Title\n",
    "You'll want an attention-grabbing title that clearly communicate the problem you are solving and is appropriate for your target audience. Even for Product Knowledge white papers, it's not a good idea to include the product name in the title. Your title should be benefit, not feature, oriented.\n"
   ]
  },
  {
   "cell_type": "markdown",
   "metadata": {},
   "source": [
    "### Executive Summary\n",
    "You may be tempted to put your conclusion at the end, but a white paper needs to grab the reader immediately. Include direct, pithy statements of your position to engage the reader. Although this section provides a short summary of what the paper is about, you need to provide enough detail to satisfy a busy executive while encouraging the reader to continue on to the meat of the paper..\n"
   ]
  },
  {
   "cell_type": "markdown",
   "metadata": {},
   "source": [
    "### Introduction\n",
    "Define the issue and provide background discussion while building credibility. Find common ground with your audience and hook them in.\n"
   ]
  },
  {
   "cell_type": "markdown",
   "metadata": {},
   "source": [
    "### Problem Definition\n",
    "*Don't start selling yet. Thoroughly and completely identify the business problem your technology solves. This section should be entirely from the perspective of the target audience.*\n",
    "\n",
    "- E-Waste\n",
    "    - USB's\n",
    "    - Computer Hardware\n",
    "- Lack of computer hardware for disadvantaged youth and lower socio-economic education\n",
    "- Lack of coding education for school students\n",
    "- Lack of employment for persons with disabilities"
   ]
  },
  {
   "cell_type": "markdown",
   "metadata": {},
   "source": [
    "### High-Level Solution\n",
    "Describe relevant technologies at a high level, including any competing technologies (which you will rebut later). Support your arguments with tables, charts, and graphics. Quote industry experts as needed to bolster your positions. You are educating your target audience on the current state of the art, as well as where your solution fits.\n",
    "\n",
    "- Learning Centres\n",
    "\n",
    "\n"
   ]
  },
  {
   "cell_type": "markdown",
   "metadata": {},
   "source": [
    "### Solution Details\n",
    "Having thoroughly explained the problem and the general approach to solving it, it is finally time to describe your solution in more detail. You can start selling know, but avoid grandiose claims; the soft approach works better in white papers. Be sure to show how your solution is vastly superior to the competition. Remember your audience and use appropriate language and level of detail. This is the heart of your white paper and you'll probably want to use case studies or customer testimonials to support your arguments. \n"
   ]
  },
  {
   "cell_type": "markdown",
   "metadata": {},
   "source": [
    "### Business Benefits\n",
    "This section is the soul of your white paper, where you need to grab the reader where he or she lives and provide plenty of assurances that your solution will work for them. Discuss return on investment (ROI), usability, adherence to standards, and speed of implementation. Show you understand your readers' pain and can relieve it. Customer quotes again may be helpful.\n"
   ]
  },
  {
   "cell_type": "markdown",
   "metadata": {},
   "source": [
    "### Summary\n",
    "\n",
    "A quick summary emphasizes both the benefits of your solution as well as the risks to readers who decide not to use your product or service. Many readers may skip the entire document and read this section only, so write this section as if it were an entirely standalone document summarizing the main selling points about your solution. Conclude with the most important point that you want the reader to remember.\n",
    "\n"
   ]
  },
  {
   "cell_type": "markdown",
   "metadata": {},
   "source": [
    "### Call to action\n",
    "You'd be surprised how many white papers either leave this most important section out or fumble it at the end. Emphatically tell readers what you want them to do and how to do it. We're not talking about simply dropping in a contact person's name and telephone number as well as Website, email, and snail mail addresses. We prefer white papers that end with offers — free trial version, free assessment, free gift certificate if you call today, that sort of thing. \n"
   ]
  }
 ],
 "metadata": {
  "kernelspec": {
   "display_name": "Python 3",
   "language": "python",
   "name": "python3"
  },
  "language_info": {
   "codemirror_mode": {
    "name": "ipython",
    "version": 3
   },
   "file_extension": ".py",
   "mimetype": "text/x-python",
   "name": "python",
   "nbconvert_exporter": "python",
   "pygments_lexer": "ipython3",
   "version": "3.6.1"
  }
 },
 "nbformat": 4,
 "nbformat_minor": 2
}
